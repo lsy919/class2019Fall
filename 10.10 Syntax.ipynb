{
 "cells": [
  {
   "cell_type": "markdown",
   "metadata": {},
   "source": [
    "    10월 10일 - Syntax"
   ]
  },
  {
   "cell_type": "code",
   "execution_count": 1,
   "metadata": {},
   "outputs": [
    {
     "name": "stdout",
     "output_type": "stream",
     "text": [
      "1\n",
      "2\n",
      "3\n",
      "4\n"
     ]
    }
   ],
   "source": [
    "# For Loop\n",
    "a = [1,2,3,4]\n",
    "for i in a: # in 뒤에 있는 것을 i로 하나씩 받아서 for 이하 시행\n",
    "    print(i)"
   ]
  },
  {
   "cell_type": "code",
   "execution_count": 2,
   "metadata": {},
   "outputs": [
    {
     "name": "stdout",
     "output_type": "stream",
     "text": [
      "1\n",
      "2\n",
      "3\n",
      "4\n"
     ]
    }
   ],
   "source": [
    "a = [1,2,3,4]\n",
    "for i in range(4): #range(4) = \"4개의 인덱스를 만들어줘\"\n",
    "    print(a[i])"
   ]
  },
  {
   "cell_type": "code",
   "execution_count": 3,
   "metadata": {},
   "outputs": [
    {
     "name": "stdout",
     "output_type": "stream",
     "text": [
      "1\n",
      "2\n",
      "3\n",
      "4\n",
      "5\n",
      "6\n",
      "7\n"
     ]
    }
   ],
   "source": [
    "a = [1,2,3,4,5,6,7]\n",
    "for i in range(len(a)):\n",
    "    print(a[i])"
   ]
  },
  {
   "cell_type": "code",
   "execution_count": 7,
   "metadata": {},
   "outputs": [
    {
     "name": "stdout",
     "output_type": "stream",
     "text": [
      "red\n",
      "green\n",
      "blue\n",
      "purple\n"
     ]
    }
   ],
   "source": [
    "a = ['red','green','blue','purple']\n",
    "for s in range(len(a)):\n",
    "    print(a[s])"
   ]
  },
  {
   "cell_type": "code",
   "execution_count": 11,
   "metadata": {
    "scrolled": true
   },
   "outputs": [
    {
     "name": "stdout",
     "output_type": "stream",
     "text": [
      "red\n",
      "green\n",
      "blue\n",
      "purple\n"
     ]
    }
   ],
   "source": [
    "a = ['red','green','blue','purple']\n",
    "b = [0.2,0.3,0.1,0.4]\n",
    "\n",
    "for i, s in enumerate(a): # 함수 enumerate(a) : a의 리스트에 번호를 추가로 매김. 0부터. 첫번째 변수에 인덱스 값. \n",
    "    print(a[i])"
   ]
  },
  {
   "cell_type": "code",
   "execution_count": 13,
   "metadata": {},
   "outputs": [
    {
     "name": "stdout",
     "output_type": "stream",
     "text": [
      "red: 20.0%\n",
      "green: 30.0%\n",
      "blue: 10.0%\n",
      "purple: 40.0%\n"
     ]
    }
   ],
   "source": [
    "a = ['red','green','blue','purple']\n",
    "b = [0.2,0.3,0.1,0.4]\n",
    "\n",
    "for i, s in enumerate(a): \n",
    "    print(\"{}: {}%\".format(s, b[i]*100)) # \"   \" 안의 형태로 적고 싶을 때, varialbe 개수만큼 {} 쓰면 됨"
   ]
  },
  {
   "cell_type": "code",
   "execution_count": 14,
   "metadata": {},
   "outputs": [
    {
     "name": "stdout",
     "output_type": "stream",
     "text": [
      "red: 20.0%\n",
      "green: 30.0%\n",
      "blue: 10.0%\n",
      "purple: 40.0%\n"
     ]
    }
   ],
   "source": [
    "a = ['red','green','blue','purple']\n",
    "b = [0.2,0.3,0.1,0.4]\n",
    "\n",
    "for i,s in zip(a,b): #zip : 두 리스트를 하나로 합침. 길이가 같아야함(?). 두 리스트가 페어로 존재하게 됨\n",
    "     print(\"{}: {}%\".format(i, s*100))"
   ]
  },
  {
   "cell_type": "code",
   "execution_count": 25,
   "metadata": {},
   "outputs": [
    {
     "ename": "IndentationError",
     "evalue": "expected an indented block (<ipython-input-25-21efdbdf2719>, line 8)",
     "output_type": "error",
     "traceback": [
      "\u001b[1;36m  File \u001b[1;32m\"<ipython-input-25-21efdbdf2719>\"\u001b[1;36m, line \u001b[1;32m8\u001b[0m\n\u001b[1;33m    else: # \"아니면\"\u001b[0m\n\u001b[1;37m       ^\u001b[0m\n\u001b[1;31mIndentationError\u001b[0m\u001b[1;31m:\u001b[0m expected an indented block\n"
     ]
    }
   ],
   "source": [
    "a = 1\n",
    "if a == 0 : # a가 0이면 \n",
    "    print(\"yay!\")\n",
    "if a != 0 : # a가 0이 아니면\n",
    "    print(\"non!\")\n",
    "if a >= 0 : # a가 0보다 크거나 같으면\n",
    "    \n",
    "else: #\"아니면\"\n",
    "    print(\"no\")"
   ]
  },
  {
   "cell_type": "code",
   "execution_count": 27,
   "metadata": {},
   "outputs": [
    {
     "name": "stdout",
     "output_type": "stream",
     "text": [
      "3\n",
      "4\n",
      "6\n",
      "8\n"
     ]
    }
   ],
   "source": [
    "for i in range(1,3):\n",
    "    for j in range(3,5):\n",
    "        print(i*j)\n",
    "# 이런건 무조건 시험... 두 번 for loop 도는 거!\n",
    "# 가장 바깥쪽 루프(i)는 2번 돌고 j에서 또 2번씩 도니까 총 4번 실행"
   ]
  },
  {
   "cell_type": "code",
   "execution_count": 28,
   "metadata": {},
   "outputs": [
    {
     "name": "stdout",
     "output_type": "stream",
     "text": [
      "1\n",
      "3\n",
      "4\n",
      "2\n",
      "6\n",
      "8\n"
     ]
    }
   ],
   "source": [
    "for i in range(1,3):\n",
    "    print(i)\n",
    "    for j in range(3,5):\n",
    "        print(i*j)\n",
    "        \n",
    "#첫번째 프린트 2번, 두번째 프린트 4번"
   ]
  },
  {
   "cell_type": "code",
   "execution_count": 29,
   "metadata": {},
   "outputs": [
    {
     "name": "stdout",
     "output_type": "stream",
     "text": [
      "4\n",
      "8\n"
     ]
    }
   ],
   "source": [
    "for i in range(1,3):\n",
    "    for j in range(3,5):\n",
    "        if j>=4:\n",
    "            print(i*j)"
   ]
  },
  {
   "cell_type": "code",
   "execution_count": 34,
   "metadata": {},
   "outputs": [],
   "source": [
    "for i in range(1,3):\n",
    "    if i >=3:\n",
    "        for j in range(3,5): #if 아래는 항상 indent. 안되면 오류!\n",
    "            print(i*j)"
   ]
  },
  {
   "cell_type": "code",
   "execution_count": null,
   "metadata": {},
   "outputs": [],
   "source": []
  }
 ],
 "metadata": {
  "kernelspec": {
   "display_name": "Python 3",
   "language": "python",
   "name": "python3"
  },
  "language_info": {
   "codemirror_mode": {
    "name": "ipython",
    "version": 3
   },
   "file_extension": ".py",
   "mimetype": "text/x-python",
   "name": "python",
   "nbconvert_exporter": "python",
   "pygments_lexer": "ipython3",
   "version": "3.7.3"
  }
 },
 "nbformat": 4,
 "nbformat_minor": 2
}
